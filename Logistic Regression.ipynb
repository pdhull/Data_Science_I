{
 "cells": [
  {
   "cell_type": "markdown",
   "metadata": {},
   "source": [
    "# Bulding a Logistic Regression model in Python\n",
    "\n",
    "Logistic Regression is a type of probabilistic classification model. It works best for a binary output (e.g., predicting whether someone has a disease or not; predicting if a credit card transaction is likely to be fraudulent or not; predicting whether someone is likely to survive the Titanic or not). \n",
    "\n",
    "## The difference between probability and likelihood\n",
    "\n",
    "### Probability\n",
    "\n",
    "Probability refers to finding the chance that something happens given a sample distribution of data. For example, if we collected income data from 100 people which was normally distributed and had the following characteristics: $$ \\mu = 50,000 $$ and $$ \\sigma = 5 ,000$$ we could calculate the *probability* that someone has a salary greater than $48,000. First we find the z-score: $$ z = {x - \\mu \\over \\sigma} $$ thus $$ z = {48,000 - 50,000 \\over 5,000} $$ which results in $$ z = -0.4 $$\n",
    "\n",
    "Then, we can look up the corresponding z-value in the z-table which equals 0.34458. Now we can calculate the probability that someone makes more than $48,000 by calculating $$P(>48,000) = 1-0.34458 = 0.65542$$ Therefore, there is a 65% chance a randomly selected person makes more than $48,000\n",
    "\n",
    "### Likelihood\n",
    "\n",
    "*Likelihood* flips the question around and essentially tries to figure out the best characteristics (probability distribution) of data given a particular value. For example, if we collected a bunch of income data (let's say 100 observations), and we observed that most of the observations are between $45,000 and $50,000, which distribution (normal, exponential, gamma) with what characteristics (mean, standard deviation) would maximize the likelihood that we observe what we observed? We could check a whole bunch of different distributions (e.g., normal distribution with mean of $30,000 and stdev of $2,000, OR normal distribution with mean of $48,000 and stdev of $3,000, and so on) and how they fit the data, and we would pick the distribution and characteristics which maximize the likelihood that we see what we saw in our data (i.e., if our collected data had an average income of $48,000, we would pick the distribution which has this average as well). Basically, we are trying to find the best distribution as opposed to already having the distribution available. Once we find the best distribution, we can calculate probabilities!\n",
    "\n",
    "### Maximum Likelihood Estimation\n",
    "\n",
    "In the real world, a common modelling problem is the question of estimating a joint probability distribution for a dataset. Density estimation would involve selecting a probability distribution function and the parameters that best explain the joint probability of observed data, so the obvious questions are: How should you choose the distribution function? How should you choose the parameters for the probability density function?\n",
    "\n",
    "Two common techniques are Maximum a Posteriori (MAP) and Maximum Likelihood Estimation (MLE). MLE assumes that all solutions are equally likely, while MAP takes into account prior information about the form of the solution.\n",
    "\n",
    "MLE treats the problem as an optimization problem (i.e., searching for the optimal solution). We wish to maximize the probability of observing the data from a joint probability distribution given a distribution and parameters that we already know. Mathematically this is stated as:\n",
    "\n",
    "$$ P(X | \\theta)$$ \n",
    "\n",
    "where theta is an unknown parameter. The resulting conditional probability is referred to as the *likelihood* of observing the data given the model parameters and uses the notation: \n",
    "$$L(X | \\theta)$$\n",
    "\n",
    "Calculating conditional probabilities, gven a sample comprises of n-examples, this can be framed as the joint probabilty of the observed data samples (x1, x2...xn) given the probability distribution parameters. The joint probability distribution can be restated as the multiplication of the conditional probability of observing each example, given the distribution parameters.\n",
    "\n",
    "Multiplying all the small probabilities, however, is time consuming, so we can restate this further as the sum of the log conditional probabilities of observing each example given the model parameters. This is what leads to the use of the term *log-likelihood function*.\n",
    "\n",
    "When we are *fitting* a machine learning model, we are essentially trying to estimate probability density - i.e., finding the best parameters or settings that explain the data. The Maximum Likelihood Estimation (MLE) framework is used for density estimation in both supervised and unsupervised models (and in neural nets) - it provides the basis for both Linear and Logistic Regression models. In summary, you can think of it as an optimization problem of searching a whole bunch of parameters in order to find the BEST parameters.\n",
    "\n",
    "\n",
    "### The good stuff - Logistic Regression\n",
    "\n",
    "You should use the slides to supplement your learning but this will be more detailed and probably better. Yes, you can use this for the exam. Yes, the exam will include content from this notebook (I guess you would only know that if you read this far already!!). Don't worry; I'll remind you to read it in class. Anyway, I digress...\n",
    "\n",
    "As discussed, logistic regression is used *primarily* for predicting binary classes (True/False, 0/1, Yes/No type of problems). Just like linear regression, logistic regression will have a function in the form of:\n",
    "$$ y = mx + b$$\n",
    "Where the coefficients will tell us information about how the input variables (x-values) impact our output variable (probability of Y / 1 / True). The main difference between logistic and linear regression, is that logistic regression will produce an output that is always between 0 and 1 (0 = 0% likelihood of an outcome happening; 1=100% likelihood of an outcome happening). This translates to the 0/1 binary outcome using a probability threshold - the default threshold is 50%, meaning that if the probability of an outcome is 50% or higher, it's classified as 1 (i.e., if the probability of a credit card transaction being fraudulent is calculated as 55%, it would be classified as a 1 or Yes or True).\n",
    "\n",
    "To calculate probabilities, we use the Sigmoid function (also called logistic function):\n",
    "\n",
    "$$ S(x) = {1 \\over 1+e^{-x}} $$\n",
    "\n",
    "The output is interpreted as a probability from a Binomial probability distribution function for the class labeled 0 or 1. In general when we produce the function which corresponds with the model, we are estimating the coefficients / parameters from the sample of observations that we have - in theory, these samples are representative of the population. We must always remember there will be 'noise' in the data, which is what we typically consider the errors. For logistic regression, we look at MLE to estimate parameters (if you remember, for Linear regression we discussed Least Squares Optimization - this is similar).\n",
    "\n",
    "#### Odds and log-odds\n",
    "\n",
    "Odds, if you read the slides, are often stated as wins or losses. For example, what are the odds of me drawing a Jack of Hearts from a deck of cards? We can convert the probabilility produced by the logistic regression model to \"odds of success\", defined as the probability of success divided by the probability of not success:\n",
    "$$ odds = {p \\over (1-p)}$$\n",
    "\n",
    "The logarithm is calculated as the log of the odds (hence, log-istic regression!):\n",
    "$$log odds = {log{p\\over (1-p)}}$$\n",
    "\n",
    "Quick review here on logs -- generally with log calculations we are trying to calculate an exponent which yields a value. For example \n",
    "\n",
    "$$log_28 = 3$$ \n",
    "because \n",
    "$$2^3 = 8$$\n",
    "\n",
    "When we are not provided a log base, we assume we're using e as the base, and e = 2.71\n",
    "\n",
    "Now if we put it all together (and if you remember my drawings on the board in class); we use the logit function (above) to project odds on a scale of -infinity to + infinity - this allows to project data onto a straight line (this is the blue line in the picture on Slide 10 of the notes). This gives us:\n",
    "\n",
    "$$y = mx + b$$\n",
    "\n",
    "We then optimize the coefficients of this straight line, using gradient descent for example (more on this in a later class... maybe next semester). Then, we use the sigmoid function to convert the -infinity to +infinity values BACK to a probability of 0-1, so we can actually classify our outputs. In sum, the objective of our model is to predict/output a probability of belonging to class 1 or not.\n",
    "\n",
    "\n",
    "In the real world, you won't have to do this by hand - but it's important to understand the logic/math behind all of the models we are learning.\n",
    "\n",
    "### The Coding Part\n",
    "\n",
    "Let's get to the good stuff. We'll start with probability and odds."
   ]
  },
  {
   "cell_type": "code",
   "execution_count": 191,
   "metadata": {},
   "outputs": [
    {
     "name": "stdout",
     "output_type": "stream",
     "text": [
      "0.7\n",
      "2.333333333333333\n",
      "0.7\n"
     ]
    }
   ],
   "source": [
    "import math\n",
    "\n",
    "# define probability of success; \n",
    "# let's say, the probability I walk into class with a \n",
    "# coffee from Sbux on Wednesday\n",
    "p = 0.7\n",
    "print(p)\n",
    "#let's convert this to odds\n",
    "odds = p / (1-p)\n",
    "print(odds)\n",
    "#let's convert back to probability\n",
    "prob = odds / (odds + 1)\n",
    "print(prob)\n"
   ]
  },
  {
   "cell_type": "code",
   "execution_count": 192,
   "metadata": {},
   "outputs": [
    {
     "name": "stdout",
     "output_type": "stream",
     "text": [
      "0.7\n",
      "2.333333333333333\n",
      "0.8472978603872034\n",
      "0.7\n"
     ]
    }
   ],
   "source": [
    "#okay, next example - log odds; start with probability again\n",
    "p = 0.7\n",
    "print(p)\n",
    "#calculate odds\n",
    "odds = p / (1-p)\n",
    "print(odds)\n",
    "#convert to log-odds\n",
    "logodds = math.log(odds)\n",
    "print(logodds)\n",
    "#convert back to probability using sigmoid function\n",
    "prob = 1/(1+math.exp(-logodds))\n",
    "print(prob)"
   ]
  },
  {
   "cell_type": "markdown",
   "metadata": {},
   "source": [
    "Now let's start with estimating model parameters. Again, MLE is a framework we can use to estimate parameters. We are trying to maximize the conditional probability of observing the data (X) given a specific probability distribution and its parameters.\n",
    "\n",
    "For supervised learning, we can summarize the conditional probability as predicting the probability if the output, given the input:\n",
    "\n",
    "$$P(Y | X)$$\n",
    "\n",
    "To calculate maximum likelihood, we need start somewhere (i.e., make an assumption about the distribution). For logistic regression, we assume a Binomial distribution. Each example in a binomial distribution is a Bernoulli trial. Since the Bernoulli distribution has a single parameter (p), we can describe this as:\n",
    "\n",
    "$$P(y=1) = p$$\n",
    "$$P(y=0) = 1-p$$\n",
    "\n",
    "The mean of the Bernoulli distribution, therefore is:\n",
    "\n",
    "$$\\mu = P(y=1)*1 + P(y=0)*0$$\n",
    "\n",
    "THEREFORE, to calculate likelihood of a specific input, where the probability is given by our prediction function, we have:\n",
    "\n",
    "$$L = \\hat{y}*y + (1-\\hat{y})*(1-y)$$\n",
    "\n",
    "Let us test this function here:"
   ]
  },
  {
   "cell_type": "code",
   "execution_count": 193,
   "metadata": {},
   "outputs": [
    {
     "name": "stdout",
     "output_type": "stream",
     "text": [
      "0.9\n"
     ]
    }
   ],
   "source": [
    "def likelihood(y,yhat):\n",
    "    return yhat * y +(1-yhat)*(1-y)\n",
    "\n",
    "y, yhat = 1,0.9\n",
    "print(likelihood(y,yhat))"
   ]
  },
  {
   "cell_type": "markdown",
   "metadata": {},
   "source": [
    "Now we can transform the likelihood into LOG-likelihood by adding the log function:"
   ]
  },
  {
   "cell_type": "code",
   "execution_count": 194,
   "metadata": {},
   "outputs": [
    {
     "name": "stdout",
     "output_type": "stream",
     "text": [
      "-0.10536051565782628\n"
     ]
    }
   ],
   "source": [
    "loglikelihood = math.log(yhat)*y+math.log(1-yhat)*(1-y)\n",
    "print(loglikelihood)"
   ]
  },
  {
   "cell_type": "markdown",
   "metadata": {},
   "source": [
    "To find the maximum likelihood, we can sum up all of the logs of all the likelihoods. We would essentially start with a baseline model, and continue to iterate until we have a model that maximizes likelihood. Generally we can use gradient descent (we will cover this in a later session) to find the optimal coefficients. Let's build a logistic regression function from scratch for Titanic, and then we'll do it with the sklearn library."
   ]
  },
  {
   "cell_type": "code",
   "execution_count": 195,
   "metadata": {},
   "outputs": [],
   "source": [
    "import numpy as np\n",
    "\n",
    "#define a class which holds data and functions\n",
    "class LogisticRegression:\n",
    "    def __init__(self, x,y): #this is a function to initiate the class\n",
    "        self.intercept = np.ones((x.shape[0],1)) #create an array of ones same length as x variable, 1 column\n",
    "        self.x = np.concatenate((self.intercept,x),axis=1) #puts array of x values + array of ones side by side; note - x must be in array format\n",
    "        self.weight = np.zeros(self.x.shape[1]) #makes array of zeros with the same number of columns as x\n",
    "        self.y=y #output variable, also must be in array format\n",
    "\n",
    "    #sigmoid method\n",
    "    def sigmoid(self,x,weight):\n",
    "        z = np.dot(x,weight) #take the dot product of x-array, and weights \n",
    "        return 1 / (1+np.exp(-z)) #sigmoid function\n",
    "\n",
    "    #loss calculation\n",
    "    def loss(self, h, y): #y is the actual class; h is the probability of the class; this is the log loss function which we want to minimize\n",
    "        return (-y * np.log(h) - (1-y) *np.log(1-h)).mean() \n",
    "        \n",
    "    #gradient calculation\n",
    "    def gradient_descent(self, X, h, y): #gradient descent we use to minimize log function above, and find the best coefficients / straight line\n",
    "        return np.dot(X.T, (h-y)) / y.shape[0]\n",
    "        \n",
    "    #define fitting function\n",
    "    def fit(self, lr, iterations): #lr is the learning rate the model uses to determine the step size at each iteration while moving toward a minimum loss funciton - we'll cover this in gradient descent \n",
    "        for i in range(iterations): #basically we're doing a bunch of iterations; sigmoud, calculate loss, gradient descent\n",
    "            sigma = self.sigmoid(self.x,self.weight)\n",
    "            loss = self.loss(sigma,self.y)\n",
    "            dW = self.gradient_descent(self.x, sigma, self.y)\n",
    "\n",
    "            #update weights\n",
    "            self.weight -=lr*dW #then find best weights\n",
    "        return print(\"finito!\")\n",
    "        \n",
    "    #predict function\n",
    "    def predict(self,x_new,threshold): #fitting function, plus ability to set threshold\n",
    "        x_new = np.concatenate((self.intercept, x_new), axis=1) #repeat process above\n",
    "        result = self.sigmoid(x_new, self.weight)\n",
    "        result = result >= threshold #returns true/false if above threshold\n",
    "        y_pred = np.zeros(result.shape[0]) #create array of zeroes\n",
    "        for i in range(len(y_pred)):\n",
    "            if result[i] == True:\n",
    "                y_pred[i] =1 #replace 0 in array if probability is above threshold\n",
    "            else:\n",
    "                continue\n",
    "        return y_pred #return array\n"
   ]
  },
  {
   "cell_type": "markdown",
   "metadata": {},
   "source": [
    "Let's try this out on Titanic - and then we'll use the sklearn logistic regression function and also compare results with other classifiers."
   ]
  },
  {
   "cell_type": "code",
   "execution_count": 196,
   "metadata": {},
   "outputs": [],
   "source": [
    "from seaborn import load_dataset #titanic lives in seaborn\n",
    "import pandas as pd\n",
    "import seaborn as sns\n",
    "\n",
    "data = load_dataset('titanic')"
   ]
  },
  {
   "cell_type": "code",
   "execution_count": 197,
   "metadata": {},
   "outputs": [
    {
     "data": {
      "text/html": [
       "<div>\n",
       "<style scoped>\n",
       "    .dataframe tbody tr th:only-of-type {\n",
       "        vertical-align: middle;\n",
       "    }\n",
       "\n",
       "    .dataframe tbody tr th {\n",
       "        vertical-align: top;\n",
       "    }\n",
       "\n",
       "    .dataframe thead th {\n",
       "        text-align: right;\n",
       "    }\n",
       "</style>\n",
       "<table border=\"1\" class=\"dataframe\">\n",
       "  <thead>\n",
       "    <tr style=\"text-align: right;\">\n",
       "      <th></th>\n",
       "      <th>survived</th>\n",
       "      <th>pclass</th>\n",
       "      <th>sex</th>\n",
       "      <th>age</th>\n",
       "      <th>sibsp</th>\n",
       "      <th>parch</th>\n",
       "      <th>fare</th>\n",
       "      <th>embarked</th>\n",
       "      <th>class</th>\n",
       "      <th>who</th>\n",
       "      <th>adult_male</th>\n",
       "      <th>deck</th>\n",
       "      <th>embark_town</th>\n",
       "      <th>alive</th>\n",
       "      <th>alone</th>\n",
       "    </tr>\n",
       "  </thead>\n",
       "  <tbody>\n",
       "    <tr>\n",
       "      <th>0</th>\n",
       "      <td>0</td>\n",
       "      <td>3</td>\n",
       "      <td>male</td>\n",
       "      <td>22.0</td>\n",
       "      <td>1</td>\n",
       "      <td>0</td>\n",
       "      <td>7.2500</td>\n",
       "      <td>S</td>\n",
       "      <td>Third</td>\n",
       "      <td>man</td>\n",
       "      <td>True</td>\n",
       "      <td>NaN</td>\n",
       "      <td>Southampton</td>\n",
       "      <td>no</td>\n",
       "      <td>False</td>\n",
       "    </tr>\n",
       "    <tr>\n",
       "      <th>1</th>\n",
       "      <td>1</td>\n",
       "      <td>1</td>\n",
       "      <td>female</td>\n",
       "      <td>38.0</td>\n",
       "      <td>1</td>\n",
       "      <td>0</td>\n",
       "      <td>71.2833</td>\n",
       "      <td>C</td>\n",
       "      <td>First</td>\n",
       "      <td>woman</td>\n",
       "      <td>False</td>\n",
       "      <td>C</td>\n",
       "      <td>Cherbourg</td>\n",
       "      <td>yes</td>\n",
       "      <td>False</td>\n",
       "    </tr>\n",
       "    <tr>\n",
       "      <th>2</th>\n",
       "      <td>1</td>\n",
       "      <td>3</td>\n",
       "      <td>female</td>\n",
       "      <td>26.0</td>\n",
       "      <td>0</td>\n",
       "      <td>0</td>\n",
       "      <td>7.9250</td>\n",
       "      <td>S</td>\n",
       "      <td>Third</td>\n",
       "      <td>woman</td>\n",
       "      <td>False</td>\n",
       "      <td>NaN</td>\n",
       "      <td>Southampton</td>\n",
       "      <td>yes</td>\n",
       "      <td>True</td>\n",
       "    </tr>\n",
       "    <tr>\n",
       "      <th>3</th>\n",
       "      <td>1</td>\n",
       "      <td>1</td>\n",
       "      <td>female</td>\n",
       "      <td>35.0</td>\n",
       "      <td>1</td>\n",
       "      <td>0</td>\n",
       "      <td>53.1000</td>\n",
       "      <td>S</td>\n",
       "      <td>First</td>\n",
       "      <td>woman</td>\n",
       "      <td>False</td>\n",
       "      <td>C</td>\n",
       "      <td>Southampton</td>\n",
       "      <td>yes</td>\n",
       "      <td>False</td>\n",
       "    </tr>\n",
       "    <tr>\n",
       "      <th>4</th>\n",
       "      <td>0</td>\n",
       "      <td>3</td>\n",
       "      <td>male</td>\n",
       "      <td>35.0</td>\n",
       "      <td>0</td>\n",
       "      <td>0</td>\n",
       "      <td>8.0500</td>\n",
       "      <td>S</td>\n",
       "      <td>Third</td>\n",
       "      <td>man</td>\n",
       "      <td>True</td>\n",
       "      <td>NaN</td>\n",
       "      <td>Southampton</td>\n",
       "      <td>no</td>\n",
       "      <td>True</td>\n",
       "    </tr>\n",
       "  </tbody>\n",
       "</table>\n",
       "</div>"
      ],
      "text/plain": [
       "   survived  pclass     sex   age  sibsp  parch     fare embarked  class  \\\n",
       "0         0       3    male  22.0      1      0   7.2500        S  Third   \n",
       "1         1       1  female  38.0      1      0  71.2833        C  First   \n",
       "2         1       3  female  26.0      0      0   7.9250        S  Third   \n",
       "3         1       1  female  35.0      1      0  53.1000        S  First   \n",
       "4         0       3    male  35.0      0      0   8.0500        S  Third   \n",
       "\n",
       "     who  adult_male deck  embark_town alive  alone  \n",
       "0    man        True  NaN  Southampton    no  False  \n",
       "1  woman       False    C    Cherbourg   yes  False  \n",
       "2  woman       False  NaN  Southampton   yes   True  \n",
       "3  woman       False    C  Southampton   yes  False  \n",
       "4    man        True  NaN  Southampton    no   True  "
      ]
     },
     "execution_count": 197,
     "metadata": {},
     "output_type": "execute_result"
    }
   ],
   "source": [
    "data.head() #success! by the way, since i'm taking this from seaborn it's slightly different than the one we used in class\n"
   ]
  },
  {
   "cell_type": "code",
   "execution_count": 198,
   "metadata": {},
   "outputs": [
    {
     "name": "stdout",
     "output_type": "stream",
     "text": [
      "<class 'pandas.core.frame.DataFrame'>\n",
      "RangeIndex: 891 entries, 0 to 890\n",
      "Data columns (total 15 columns):\n",
      " #   Column       Non-Null Count  Dtype   \n",
      "---  ------       --------------  -----   \n",
      " 0   survived     891 non-null    int64   \n",
      " 1   pclass       891 non-null    int64   \n",
      " 2   sex          891 non-null    object  \n",
      " 3   age          714 non-null    float64 \n",
      " 4   sibsp        891 non-null    int64   \n",
      " 5   parch        891 non-null    int64   \n",
      " 6   fare         891 non-null    float64 \n",
      " 7   embarked     889 non-null    object  \n",
      " 8   class        891 non-null    category\n",
      " 9   who          891 non-null    object  \n",
      " 10  adult_male   891 non-null    bool    \n",
      " 11  deck         203 non-null    category\n",
      " 12  embark_town  889 non-null    object  \n",
      " 13  alive        891 non-null    object  \n",
      " 14  alone        891 non-null    bool    \n",
      "dtypes: bool(2), category(2), float64(2), int64(4), object(5)\n",
      "memory usage: 80.7+ KB\n"
     ]
    }
   ],
   "source": [
    "data.info() #missing data in Age, Embarked, Class, Deck, Embark Town"
   ]
  },
  {
   "cell_type": "markdown",
   "metadata": {},
   "source": [
    "#### Cleaning and transforming data\n",
    "\n",
    "Let's get rid of thte deck column - not useful, too many missing values. We can also remove the adult_male column, since it's redundant to sex. We can remove 'alive' since we don't care how long survivors lived, and it's redundant to survive. We can remove 'alone'. Remove Embark_town since it's redundant with Embarked. We can fill in missing values for Age and for Embarked. Also let's get rid of \"who\", names won't be relevant here."
   ]
  },
  {
   "cell_type": "code",
   "execution_count": 199,
   "metadata": {},
   "outputs": [],
   "source": [
    "data.drop(['alive','alone','embark_town','who','adult_male','deck','class'], axis=1,inplace=True)"
   ]
  },
  {
   "cell_type": "code",
   "execution_count": 200,
   "metadata": {},
   "outputs": [
    {
     "data": {
      "text/html": [
       "<div>\n",
       "<style scoped>\n",
       "    .dataframe tbody tr th:only-of-type {\n",
       "        vertical-align: middle;\n",
       "    }\n",
       "\n",
       "    .dataframe tbody tr th {\n",
       "        vertical-align: top;\n",
       "    }\n",
       "\n",
       "    .dataframe thead th {\n",
       "        text-align: right;\n",
       "    }\n",
       "</style>\n",
       "<table border=\"1\" class=\"dataframe\">\n",
       "  <thead>\n",
       "    <tr style=\"text-align: right;\">\n",
       "      <th></th>\n",
       "      <th>survived</th>\n",
       "      <th>pclass</th>\n",
       "      <th>sex</th>\n",
       "      <th>age</th>\n",
       "      <th>sibsp</th>\n",
       "      <th>parch</th>\n",
       "      <th>fare</th>\n",
       "      <th>embarked</th>\n",
       "    </tr>\n",
       "  </thead>\n",
       "  <tbody>\n",
       "    <tr>\n",
       "      <th>0</th>\n",
       "      <td>0</td>\n",
       "      <td>3</td>\n",
       "      <td>male</td>\n",
       "      <td>22.0</td>\n",
       "      <td>1</td>\n",
       "      <td>0</td>\n",
       "      <td>7.2500</td>\n",
       "      <td>S</td>\n",
       "    </tr>\n",
       "    <tr>\n",
       "      <th>1</th>\n",
       "      <td>1</td>\n",
       "      <td>1</td>\n",
       "      <td>female</td>\n",
       "      <td>38.0</td>\n",
       "      <td>1</td>\n",
       "      <td>0</td>\n",
       "      <td>71.2833</td>\n",
       "      <td>C</td>\n",
       "    </tr>\n",
       "    <tr>\n",
       "      <th>2</th>\n",
       "      <td>1</td>\n",
       "      <td>3</td>\n",
       "      <td>female</td>\n",
       "      <td>26.0</td>\n",
       "      <td>0</td>\n",
       "      <td>0</td>\n",
       "      <td>7.9250</td>\n",
       "      <td>S</td>\n",
       "    </tr>\n",
       "    <tr>\n",
       "      <th>3</th>\n",
       "      <td>1</td>\n",
       "      <td>1</td>\n",
       "      <td>female</td>\n",
       "      <td>35.0</td>\n",
       "      <td>1</td>\n",
       "      <td>0</td>\n",
       "      <td>53.1000</td>\n",
       "      <td>S</td>\n",
       "    </tr>\n",
       "    <tr>\n",
       "      <th>4</th>\n",
       "      <td>0</td>\n",
       "      <td>3</td>\n",
       "      <td>male</td>\n",
       "      <td>35.0</td>\n",
       "      <td>0</td>\n",
       "      <td>0</td>\n",
       "      <td>8.0500</td>\n",
       "      <td>S</td>\n",
       "    </tr>\n",
       "    <tr>\n",
       "      <th>...</th>\n",
       "      <td>...</td>\n",
       "      <td>...</td>\n",
       "      <td>...</td>\n",
       "      <td>...</td>\n",
       "      <td>...</td>\n",
       "      <td>...</td>\n",
       "      <td>...</td>\n",
       "      <td>...</td>\n",
       "    </tr>\n",
       "    <tr>\n",
       "      <th>886</th>\n",
       "      <td>0</td>\n",
       "      <td>2</td>\n",
       "      <td>male</td>\n",
       "      <td>27.0</td>\n",
       "      <td>0</td>\n",
       "      <td>0</td>\n",
       "      <td>13.0000</td>\n",
       "      <td>S</td>\n",
       "    </tr>\n",
       "    <tr>\n",
       "      <th>887</th>\n",
       "      <td>1</td>\n",
       "      <td>1</td>\n",
       "      <td>female</td>\n",
       "      <td>19.0</td>\n",
       "      <td>0</td>\n",
       "      <td>0</td>\n",
       "      <td>30.0000</td>\n",
       "      <td>S</td>\n",
       "    </tr>\n",
       "    <tr>\n",
       "      <th>888</th>\n",
       "      <td>0</td>\n",
       "      <td>3</td>\n",
       "      <td>female</td>\n",
       "      <td>NaN</td>\n",
       "      <td>1</td>\n",
       "      <td>2</td>\n",
       "      <td>23.4500</td>\n",
       "      <td>S</td>\n",
       "    </tr>\n",
       "    <tr>\n",
       "      <th>889</th>\n",
       "      <td>1</td>\n",
       "      <td>1</td>\n",
       "      <td>male</td>\n",
       "      <td>26.0</td>\n",
       "      <td>0</td>\n",
       "      <td>0</td>\n",
       "      <td>30.0000</td>\n",
       "      <td>C</td>\n",
       "    </tr>\n",
       "    <tr>\n",
       "      <th>890</th>\n",
       "      <td>0</td>\n",
       "      <td>3</td>\n",
       "      <td>male</td>\n",
       "      <td>32.0</td>\n",
       "      <td>0</td>\n",
       "      <td>0</td>\n",
       "      <td>7.7500</td>\n",
       "      <td>Q</td>\n",
       "    </tr>\n",
       "  </tbody>\n",
       "</table>\n",
       "<p>891 rows × 8 columns</p>\n",
       "</div>"
      ],
      "text/plain": [
       "     survived  pclass     sex   age  sibsp  parch     fare embarked\n",
       "0           0       3    male  22.0      1      0   7.2500        S\n",
       "1           1       1  female  38.0      1      0  71.2833        C\n",
       "2           1       3  female  26.0      0      0   7.9250        S\n",
       "3           1       1  female  35.0      1      0  53.1000        S\n",
       "4           0       3    male  35.0      0      0   8.0500        S\n",
       "..        ...     ...     ...   ...    ...    ...      ...      ...\n",
       "886         0       2    male  27.0      0      0  13.0000        S\n",
       "887         1       1  female  19.0      0      0  30.0000        S\n",
       "888         0       3  female   NaN      1      2  23.4500        S\n",
       "889         1       1    male  26.0      0      0  30.0000        C\n",
       "890         0       3    male  32.0      0      0   7.7500        Q\n",
       "\n",
       "[891 rows x 8 columns]"
      ]
     },
     "execution_count": 200,
     "metadata": {},
     "output_type": "execute_result"
    }
   ],
   "source": [
    "data"
   ]
  },
  {
   "cell_type": "markdown",
   "metadata": {},
   "source": [
    "We can fill in missing data for Age, using median by sex - this is probably the safest approach. For Embarked, we can just find the most popular value."
   ]
  },
  {
   "cell_type": "code",
   "execution_count": 201,
   "metadata": {},
   "outputs": [
    {
     "data": {
      "text/html": [
       "<div>\n",
       "<style scoped>\n",
       "    .dataframe tbody tr th:only-of-type {\n",
       "        vertical-align: middle;\n",
       "    }\n",
       "\n",
       "    .dataframe tbody tr th {\n",
       "        vertical-align: top;\n",
       "    }\n",
       "\n",
       "    .dataframe thead th {\n",
       "        text-align: right;\n",
       "    }\n",
       "</style>\n",
       "<table border=\"1\" class=\"dataframe\">\n",
       "  <thead>\n",
       "    <tr style=\"text-align: right;\">\n",
       "      <th></th>\n",
       "      <th>survived</th>\n",
       "      <th>pclass</th>\n",
       "      <th>sex</th>\n",
       "      <th>age</th>\n",
       "      <th>sibsp</th>\n",
       "      <th>parch</th>\n",
       "      <th>fare</th>\n",
       "    </tr>\n",
       "    <tr>\n",
       "      <th>embarked</th>\n",
       "      <th></th>\n",
       "      <th></th>\n",
       "      <th></th>\n",
       "      <th></th>\n",
       "      <th></th>\n",
       "      <th></th>\n",
       "      <th></th>\n",
       "    </tr>\n",
       "  </thead>\n",
       "  <tbody>\n",
       "    <tr>\n",
       "      <th>C</th>\n",
       "      <td>168</td>\n",
       "      <td>168</td>\n",
       "      <td>168</td>\n",
       "      <td>130</td>\n",
       "      <td>168</td>\n",
       "      <td>168</td>\n",
       "      <td>168</td>\n",
       "    </tr>\n",
       "    <tr>\n",
       "      <th>Q</th>\n",
       "      <td>77</td>\n",
       "      <td>77</td>\n",
       "      <td>77</td>\n",
       "      <td>28</td>\n",
       "      <td>77</td>\n",
       "      <td>77</td>\n",
       "      <td>77</td>\n",
       "    </tr>\n",
       "    <tr>\n",
       "      <th>S</th>\n",
       "      <td>644</td>\n",
       "      <td>644</td>\n",
       "      <td>644</td>\n",
       "      <td>554</td>\n",
       "      <td>644</td>\n",
       "      <td>644</td>\n",
       "      <td>644</td>\n",
       "    </tr>\n",
       "  </tbody>\n",
       "</table>\n",
       "</div>"
      ],
      "text/plain": [
       "          survived  pclass  sex  age  sibsp  parch  fare\n",
       "embarked                                                \n",
       "C              168     168  168  130    168    168   168\n",
       "Q               77      77   77   28     77     77    77\n",
       "S              644     644  644  554    644    644   644"
      ]
     },
     "execution_count": 201,
     "metadata": {},
     "output_type": "execute_result"
    }
   ],
   "source": [
    "data.groupby('embarked').count()"
   ]
  },
  {
   "cell_type": "code",
   "execution_count": 202,
   "metadata": {},
   "outputs": [],
   "source": [
    "data['age'] = data['age'].fillna(data.groupby('sex')['age'].transform('median'))"
   ]
  },
  {
   "cell_type": "code",
   "execution_count": 203,
   "metadata": {},
   "outputs": [],
   "source": [
    "data['embarked'] = data['embarked'].fillna('S')"
   ]
  },
  {
   "cell_type": "code",
   "execution_count": 204,
   "metadata": {},
   "outputs": [
    {
     "name": "stdout",
     "output_type": "stream",
     "text": [
      "<class 'pandas.core.frame.DataFrame'>\n",
      "RangeIndex: 891 entries, 0 to 890\n",
      "Data columns (total 8 columns):\n",
      " #   Column    Non-Null Count  Dtype  \n",
      "---  ------    --------------  -----  \n",
      " 0   survived  891 non-null    int64  \n",
      " 1   pclass    891 non-null    int64  \n",
      " 2   sex       891 non-null    object \n",
      " 3   age       891 non-null    float64\n",
      " 4   sibsp     891 non-null    int64  \n",
      " 5   parch     891 non-null    int64  \n",
      " 6   fare      891 non-null    float64\n",
      " 7   embarked  891 non-null    object \n",
      "dtypes: float64(2), int64(4), object(2)\n",
      "memory usage: 55.8+ KB\n"
     ]
    }
   ],
   "source": [
    "data.info()"
   ]
  },
  {
   "cell_type": "markdown",
   "metadata": {},
   "source": [
    "Now let's make dummy variables for Embarked and Sex."
   ]
  },
  {
   "cell_type": "code",
   "execution_count": 205,
   "metadata": {},
   "outputs": [],
   "source": [
    "sex_dummies = pd.get_dummies(data['sex'])\n",
    "embarked_dummies = pd.get_dummies(data['embarked'])"
   ]
  },
  {
   "cell_type": "code",
   "execution_count": 206,
   "metadata": {},
   "outputs": [],
   "source": [
    "data = pd.concat([data,sex_dummies,embarked_dummies],axis=1)"
   ]
  },
  {
   "cell_type": "code",
   "execution_count": 207,
   "metadata": {},
   "outputs": [],
   "source": [
    "#drop old columns\n",
    "data.drop(['sex','embarked'],axis=1, inplace=True)"
   ]
  },
  {
   "cell_type": "code",
   "execution_count": 208,
   "metadata": {},
   "outputs": [
    {
     "data": {
      "text/plain": [
       "Index(['survived', 'pclass', 'age', 'sibsp', 'parch', 'fare', 'female', 'male',\n",
       "       'C', 'Q', 'S'],\n",
       "      dtype='object')"
      ]
     },
     "execution_count": 208,
     "metadata": {},
     "output_type": "execute_result"
    }
   ],
   "source": [
    "data.columns"
   ]
  },
  {
   "cell_type": "markdown",
   "metadata": {},
   "source": [
    "Now we are ready. Let's try the model. Remember, we should convert our variables to numpy arrays."
   ]
  },
  {
   "cell_type": "code",
   "execution_count": 209,
   "metadata": {},
   "outputs": [],
   "source": [
    "x = np.array(data[['pclass', 'age', 'sibsp', 'parch', 'fare', 'female', 'male',\n",
    "       'C', 'Q', 'S']])\n",
    "y = np.array(data.survived)\n",
    " \n"
   ]
  },
  {
   "cell_type": "code",
   "execution_count": 210,
   "metadata": {},
   "outputs": [
    {
     "name": "stderr",
     "output_type": "stream",
     "text": [
      "/Users/delinaivanova/opt/anaconda3/lib/python3.7/site-packages/ipykernel_launcher.py:18: RuntimeWarning: divide by zero encountered in log\n",
      "/Users/delinaivanova/opt/anaconda3/lib/python3.7/site-packages/ipykernel_launcher.py:18: RuntimeWarning: invalid value encountered in multiply\n"
     ]
    },
    {
     "name": "stdout",
     "output_type": "stream",
     "text": [
      "finito!\n",
      "accuracy -> 0.45342312008978675\n"
     ]
    }
   ],
   "source": [
    "#create the object\n",
    "regressor = LogisticRegression(x,y)\n",
    " \n",
    "#fit the model, 0.1 learning rate, anad 5000 iterations (this is how we'll find max likelihood)\n",
    "regressor.fit(0.1 , 5000)\n",
    " \n",
    " \n",
    "y_pred = regressor.predict(x,0.5) #use 0.5 treshold\n",
    " \n",
    "print('accuracy -> {}'.format(sum(y_pred == y) / y.shape[0])) #print accuracy"
   ]
  },
  {
   "cell_type": "code",
   "execution_count": 211,
   "metadata": {},
   "outputs": [
    {
     "name": "stderr",
     "output_type": "stream",
     "text": [
      "/Users/delinaivanova/opt/anaconda3/lib/python3.7/site-packages/ipykernel_launcher.py:18: RuntimeWarning: divide by zero encountered in log\n",
      "/Users/delinaivanova/opt/anaconda3/lib/python3.7/site-packages/ipykernel_launcher.py:18: RuntimeWarning: invalid value encountered in multiply\n",
      "/Users/delinaivanova/opt/anaconda3/lib/python3.7/site-packages/ipykernel_launcher.py:14: RuntimeWarning: overflow encountered in exp\n",
      "  \n"
     ]
    },
    {
     "name": "stdout",
     "output_type": "stream",
     "text": [
      "finito!\n",
      "accuracy -> 0.7508417508417509\n"
     ]
    }
   ],
   "source": [
    "#not good! Lets try different features\n",
    "x = np.array(data[['fare', 'female','age']])\n",
    "y = np.array(data.survived)\n",
    "\n",
    "#create the object\n",
    "regressor = LogisticRegression(x,y)\n",
    " \n",
    "#fit the model, 0.3 learning rate this time, anad 5000 iterations (this is how we'll find max likelihood)\n",
    "regressor.fit(0.3, 5000)\n",
    " \n",
    " \n",
    "y_pred = regressor.predict(x,0.5) #use 0.5 treshold\n",
    " \n",
    "print('accuracy -> {}'.format(sum(y_pred == y) / y.shape[0])) #print accuracy"
   ]
  },
  {
   "cell_type": "markdown",
   "metadata": {},
   "source": [
    "The second model worked much better - I changed the learning rate to 0.3, and also reduced the number of input variables to Fare, Female (y/n), and Age. So... hopefully this gives you a good view of how we create a logistic regression. Of course we don't need to do this in the real world, so now let's use sklearn's regression and compare the results to Naive Bayes and KNN."
   ]
  },
  {
   "cell_type": "code",
   "execution_count": 212,
   "metadata": {},
   "outputs": [],
   "source": [
    "import statsmodels.api as sm\n",
    "from sklearn.linear_model import LogisticRegression\n",
    "from sklearn.naive_bayes import GaussianNB\n",
    "from sklearn.neighbors import KNeighborsClassifier\n",
    "from sklearn.model_selection import train_test_split\n",
    "from sklearn.metrics import accuracy_score, f1_score, precision_score, roc_curve, roc_auc_score, precision_recall_curve, confusion_matrix, recall_score\n"
   ]
  },
  {
   "cell_type": "code",
   "execution_count": 213,
   "metadata": {},
   "outputs": [],
   "source": [
    "# there are many more hyperparameters we can adjust in this version, \n",
    "# such as regularization terms (we'll cover this in a later module)\n",
    "# weights, solver type, etc. for now, we'll keep the default settings\n",
    "\n",
    "from sklearn.neighbors import KNeighborsClassifier\n",
    "\n",
    "\n",
    "log = LogisticRegression()\n",
    "nb = GaussianNB()\n",
    "knn = KNeighborsClassifier() #default neighbours is 5"
   ]
  },
  {
   "cell_type": "code",
   "execution_count": 214,
   "metadata": {},
   "outputs": [],
   "source": [
    "#split the data\n",
    "x_train, x_test, y_train, y_test = train_test_split(x,y, test_size=0.2)"
   ]
  },
  {
   "cell_type": "code",
   "execution_count": 215,
   "metadata": {},
   "outputs": [
    {
     "data": {
      "text/plain": [
       "KNeighborsClassifier()"
      ]
     },
     "execution_count": 215,
     "metadata": {},
     "output_type": "execute_result"
    }
   ],
   "source": [
    "log.fit(x_train,y_train)\n",
    "nb.fit(x_train,y_train)\n",
    "knn.fit(x_train,y_train)"
   ]
  },
  {
   "cell_type": "markdown",
   "metadata": {},
   "source": [
    "We've spoken about classification models in the past and optimizing for the threshold (i.e., the default is 50%, but what if we wanted higher thresholds and they were more accurate?). In the example below, if I use the predict() function, I will basically get the 0/1 outputs. However, I can use a predict_proba() function so I can see the actual probabilities that the model is predicting. This will help me find an optimal threshold."
   ]
  },
  {
   "cell_type": "code",
   "execution_count": 216,
   "metadata": {},
   "outputs": [],
   "source": [
    "yhat_log = log.predict_proba(x_test)\n",
    "yhat_nb = nb.predict_proba(x_test)\n",
    "yhat_knn = knn.predict(x_test)"
   ]
  },
  {
   "cell_type": "markdown",
   "metadata": {},
   "source": [
    "In the next cell, for each observation, we can see the probability that the observation is a 1 and the probability that it's a 0. For example, the first entry has a 73% chance of being a 0 (dead), and a 27% chance of being a 1 (alive)."
   ]
  },
  {
   "cell_type": "code",
   "execution_count": 217,
   "metadata": {},
   "outputs": [
    {
     "data": {
      "text/plain": [
       "array([[0.84255143, 0.15744857],\n",
       "       [0.81444446, 0.18555554],\n",
       "       [0.81648154, 0.18351846],\n",
       "       [0.85319025, 0.14680975],\n",
       "       [0.84390219, 0.15609781],\n",
       "       [0.84677602, 0.15322398],\n",
       "       [0.83004082, 0.16995918],\n",
       "       [0.84608001, 0.15391999],\n",
       "       [0.84900019, 0.15099981],\n",
       "       [0.84677602, 0.15322398],\n",
       "       [0.32171132, 0.67828868],\n",
       "       [0.77373515, 0.22626485],\n",
       "       [0.32827078, 0.67172922],\n",
       "       [0.8501194 , 0.1498806 ],\n",
       "       [0.30890168, 0.69109832],\n",
       "       [0.29825108, 0.70174892],\n",
       "       [0.84540856, 0.15459144],\n",
       "       [0.01107086, 0.98892914],\n",
       "       [0.8599436 , 0.1400564 ],\n",
       "       [0.79135253, 0.20864747],\n",
       "       [0.31010461, 0.68989539],\n",
       "       [0.81122333, 0.18877667],\n",
       "       [0.84847875, 0.15152125],\n",
       "       [0.85678857, 0.14321143],\n",
       "       [0.75514219, 0.24485781],\n",
       "       [0.86597747, 0.13402253],\n",
       "       [0.30885044, 0.69114956],\n",
       "       [0.16468916, 0.83531084],\n",
       "       [0.84677602, 0.15322398],\n",
       "       [0.8183384 , 0.1816616 ],\n",
       "       [0.84700977, 0.15299023],\n",
       "       [0.7225839 , 0.2774161 ],\n",
       "       [0.30549179, 0.69450821],\n",
       "       [0.80029254, 0.19970746],\n",
       "       [0.84306591, 0.15693409],\n",
       "       [0.85480709, 0.14519291],\n",
       "       [0.28215136, 0.71784864],\n",
       "       [0.84700977, 0.15299023],\n",
       "       [0.81879876, 0.18120124],\n",
       "       [0.29637019, 0.70362981],\n",
       "       [0.84703653, 0.15296347],\n",
       "       [0.86916371, 0.13083629],\n",
       "       [0.84594528, 0.15405472],\n",
       "       [0.84979711, 0.15020289],\n",
       "       [0.82831308, 0.17168692],\n",
       "       [0.84677602, 0.15322398],\n",
       "       [0.77559069, 0.22440931],\n",
       "       [0.81365686, 0.18634314],\n",
       "       [0.31301352, 0.68698648],\n",
       "       [0.84126032, 0.15873968],\n",
       "       [0.84677602, 0.15322398],\n",
       "       [0.82275964, 0.17724036],\n",
       "       [0.83837884, 0.16162116],\n",
       "       [0.84395642, 0.15604358],\n",
       "       [0.26209434, 0.73790566],\n",
       "       [0.81304484, 0.18695516],\n",
       "       [0.32222782, 0.67777218],\n",
       "       [0.117746  , 0.882254  ],\n",
       "       [0.25893942, 0.74106058],\n",
       "       [0.19680255, 0.80319745],\n",
       "       [0.30541245, 0.69458755],\n",
       "       [0.23588653, 0.76411347],\n",
       "       [0.29270827, 0.70729173],\n",
       "       [0.84620131, 0.15379869],\n",
       "       [0.7644719 , 0.2355281 ],\n",
       "       [0.70086566, 0.29913434],\n",
       "       [0.63495308, 0.36504692],\n",
       "       [0.83029742, 0.16970258],\n",
       "       [0.75747241, 0.24252759],\n",
       "       [0.1740285 , 0.8259715 ],\n",
       "       [0.8122062 , 0.1877938 ],\n",
       "       [0.82023397, 0.17976603],\n",
       "       [0.15990498, 0.84009502],\n",
       "       [0.85203062, 0.14796938],\n",
       "       [0.84454522, 0.15545478],\n",
       "       [0.8419164 , 0.1580836 ],\n",
       "       [0.81542996, 0.18457004],\n",
       "       [0.72783955, 0.27216045],\n",
       "       [0.76421842, 0.23578158],\n",
       "       [0.81859857, 0.18140143],\n",
       "       [0.26671314, 0.73328686],\n",
       "       [0.22812508, 0.77187492],\n",
       "       [0.75989814, 0.24010186],\n",
       "       [0.31648592, 0.68351408],\n",
       "       [0.21880629, 0.78119371],\n",
       "       [0.85901863, 0.14098137],\n",
       "       [0.84247341, 0.15752659],\n",
       "       [0.84700977, 0.15299023],\n",
       "       [0.84784905, 0.15215095],\n",
       "       [0.84732994, 0.15267006],\n",
       "       [0.78294457, 0.21705543],\n",
       "       [0.85761992, 0.14238008],\n",
       "       [0.81640107, 0.18359893],\n",
       "       [0.19361554, 0.80638446],\n",
       "       [0.27563716, 0.72436284],\n",
       "       [0.84546124, 0.15453876],\n",
       "       [0.31808357, 0.68191643],\n",
       "       [0.52224697, 0.47775303],\n",
       "       [0.76589919, 0.23410081],\n",
       "       [0.03330642, 0.96669358],\n",
       "       [0.28284144, 0.71715856],\n",
       "       [0.82997587, 0.17002413],\n",
       "       [0.75077561, 0.24922439],\n",
       "       [0.26821453, 0.73178547],\n",
       "       [0.78138293, 0.21861707],\n",
       "       [0.28415738, 0.71584262],\n",
       "       [0.84700977, 0.15299023],\n",
       "       [0.82755474, 0.17244526],\n",
       "       [0.32292572, 0.67707428],\n",
       "       [0.81642031, 0.18357969],\n",
       "       [0.83439212, 0.16560788],\n",
       "       [0.83520149, 0.16479851],\n",
       "       [0.84847875, 0.15152125],\n",
       "       [0.84824627, 0.15175373],\n",
       "       [0.29214603, 0.70785397],\n",
       "       [0.82902752, 0.17097248],\n",
       "       [0.29458014, 0.70541986],\n",
       "       [0.84700977, 0.15299023],\n",
       "       [0.78171992, 0.21828008],\n",
       "       [0.26030784, 0.73969216],\n",
       "       [0.09763394, 0.90236606],\n",
       "       [0.7754306 , 0.2245694 ],\n",
       "       [0.86186579, 0.13813421],\n",
       "       [0.84032904, 0.15967096],\n",
       "       [0.12526116, 0.87473884],\n",
       "       [0.81185746, 0.18814254],\n",
       "       [0.2907426 , 0.7092574 ],\n",
       "       [0.5977538 , 0.4022462 ],\n",
       "       [0.29061958, 0.70938042],\n",
       "       [0.83520149, 0.16479851],\n",
       "       [0.2850832 , 0.7149168 ],\n",
       "       [0.30953075, 0.69046925],\n",
       "       [0.84696971, 0.15303029],\n",
       "       [0.0726878 , 0.9273122 ],\n",
       "       [0.83941564, 0.16058436],\n",
       "       [0.22462077, 0.77537923],\n",
       "       [0.83969212, 0.16030788],\n",
       "       [0.21710017, 0.78289983],\n",
       "       [0.76929031, 0.23070969],\n",
       "       [0.81090387, 0.18909613],\n",
       "       [0.82639426, 0.17360574],\n",
       "       [0.84400283, 0.15599717],\n",
       "       [0.85587108, 0.14412892],\n",
       "       [0.27249131, 0.72750869],\n",
       "       [0.85992472, 0.14007528],\n",
       "       [0.84652848, 0.15347152],\n",
       "       [0.84091   , 0.15909   ],\n",
       "       [0.83995425, 0.16004575],\n",
       "       [0.83550715, 0.16449285],\n",
       "       [0.27703645, 0.72296355],\n",
       "       [0.84492897, 0.15507103],\n",
       "       [0.28239224, 0.71760776],\n",
       "       [0.84784235, 0.15215765],\n",
       "       [0.83969721, 0.16030279],\n",
       "       [0.32292572, 0.67707428],\n",
       "       [0.16079906, 0.83920094],\n",
       "       [0.81806509, 0.18193491],\n",
       "       [0.81672774, 0.18327226],\n",
       "       [0.81966787, 0.18033213],\n",
       "       [0.84410228, 0.15589772],\n",
       "       [0.83920078, 0.16079922],\n",
       "       [0.8367679 , 0.1632321 ],\n",
       "       [0.84673029, 0.15326971],\n",
       "       [0.30267629, 0.69732371],\n",
       "       [0.18199553, 0.81800447],\n",
       "       [0.32280192, 0.67719808],\n",
       "       [0.25904   , 0.74096   ],\n",
       "       [0.24765972, 0.75234028],\n",
       "       [0.85555227, 0.14444773],\n",
       "       [0.31192708, 0.68807292],\n",
       "       [0.87816057, 0.12183943],\n",
       "       [0.31095942, 0.68904058],\n",
       "       [0.84090248, 0.15909752],\n",
       "       [0.32814779, 0.67185221],\n",
       "       [0.84495515, 0.15504485],\n",
       "       [0.84784235, 0.15215765],\n",
       "       [0.84728939, 0.15271061],\n",
       "       [0.84620131, 0.15379869],\n",
       "       [0.21451986, 0.78548014]])"
      ]
     },
     "execution_count": 217,
     "metadata": {},
     "output_type": "execute_result"
    }
   ],
   "source": [
    "yhat_log"
   ]
  },
  {
   "cell_type": "markdown",
   "metadata": {},
   "source": [
    "Let's do a quick comparison to the predict function: we can see below that the same first observation was naturally classified as a 0. "
   ]
  },
  {
   "cell_type": "code",
   "execution_count": 218,
   "metadata": {},
   "outputs": [
    {
     "data": {
      "text/plain": [
       "array([0, 0, 0, 0, 0, 0, 0, 0, 0, 0, 1, 0, 1, 0, 1, 1, 0, 1, 0, 0, 1, 0,\n",
       "       0, 0, 0, 0, 1, 1, 0, 0, 0, 0, 1, 0, 0, 0, 1, 0, 0, 1, 0, 0, 0, 0,\n",
       "       0, 0, 0, 0, 1, 0, 0, 0, 0, 0, 1, 0, 1, 1, 1, 1, 1, 1, 1, 0, 0, 0,\n",
       "       0, 0, 0, 1, 0, 0, 1, 0, 0, 0, 0, 0, 0, 0, 1, 1, 0, 1, 1, 0, 0, 0,\n",
       "       0, 0, 0, 0, 0, 1, 1, 0, 1, 0, 0, 1, 1, 0, 0, 1, 0, 1, 0, 0, 1, 0,\n",
       "       0, 0, 0, 0, 1, 0, 1, 0, 0, 1, 1, 0, 0, 0, 1, 0, 1, 0, 1, 0, 1, 1,\n",
       "       0, 1, 0, 1, 0, 1, 0, 0, 0, 0, 0, 1, 0, 0, 0, 0, 0, 1, 0, 1, 0, 0,\n",
       "       1, 1, 0, 0, 0, 0, 0, 0, 0, 1, 1, 1, 1, 1, 0, 1, 0, 1, 0, 1, 0, 0,\n",
       "       0, 0, 1])"
      ]
     },
     "execution_count": 218,
     "metadata": {},
     "output_type": "execute_result"
    }
   ],
   "source": [
    "log.predict(x_test)"
   ]
  },
  {
   "cell_type": "markdown",
   "metadata": {},
   "source": [
    "Moving on. I'm going to isolate only the probabilities that something is a 1 (alive). "
   ]
  },
  {
   "cell_type": "code",
   "execution_count": 219,
   "metadata": {},
   "outputs": [
    {
     "data": {
      "text/plain": [
       "array([0.15744857, 0.18555554, 0.18351846, 0.14680975, 0.15609781,\n",
       "       0.15322398, 0.16995918, 0.15391999, 0.15099981, 0.15322398,\n",
       "       0.67828868, 0.22626485, 0.67172922, 0.1498806 , 0.69109832,\n",
       "       0.70174892, 0.15459144, 0.98892914, 0.1400564 , 0.20864747,\n",
       "       0.68989539, 0.18877667, 0.15152125, 0.14321143, 0.24485781,\n",
       "       0.13402253, 0.69114956, 0.83531084, 0.15322398, 0.1816616 ,\n",
       "       0.15299023, 0.2774161 , 0.69450821, 0.19970746, 0.15693409,\n",
       "       0.14519291, 0.71784864, 0.15299023, 0.18120124, 0.70362981,\n",
       "       0.15296347, 0.13083629, 0.15405472, 0.15020289, 0.17168692,\n",
       "       0.15322398, 0.22440931, 0.18634314, 0.68698648, 0.15873968,\n",
       "       0.15322398, 0.17724036, 0.16162116, 0.15604358, 0.73790566,\n",
       "       0.18695516, 0.67777218, 0.882254  , 0.74106058, 0.80319745,\n",
       "       0.69458755, 0.76411347, 0.70729173, 0.15379869, 0.2355281 ,\n",
       "       0.29913434, 0.36504692, 0.16970258, 0.24252759, 0.8259715 ,\n",
       "       0.1877938 , 0.17976603, 0.84009502, 0.14796938, 0.15545478,\n",
       "       0.1580836 , 0.18457004, 0.27216045, 0.23578158, 0.18140143,\n",
       "       0.73328686, 0.77187492, 0.24010186, 0.68351408, 0.78119371,\n",
       "       0.14098137, 0.15752659, 0.15299023, 0.15215095, 0.15267006,\n",
       "       0.21705543, 0.14238008, 0.18359893, 0.80638446, 0.72436284,\n",
       "       0.15453876, 0.68191643, 0.47775303, 0.23410081, 0.96669358,\n",
       "       0.71715856, 0.17002413, 0.24922439, 0.73178547, 0.21861707,\n",
       "       0.71584262, 0.15299023, 0.17244526, 0.67707428, 0.18357969,\n",
       "       0.16560788, 0.16479851, 0.15152125, 0.15175373, 0.70785397,\n",
       "       0.17097248, 0.70541986, 0.15299023, 0.21828008, 0.73969216,\n",
       "       0.90236606, 0.2245694 , 0.13813421, 0.15967096, 0.87473884,\n",
       "       0.18814254, 0.7092574 , 0.4022462 , 0.70938042, 0.16479851,\n",
       "       0.7149168 , 0.69046925, 0.15303029, 0.9273122 , 0.16058436,\n",
       "       0.77537923, 0.16030788, 0.78289983, 0.23070969, 0.18909613,\n",
       "       0.17360574, 0.15599717, 0.14412892, 0.72750869, 0.14007528,\n",
       "       0.15347152, 0.15909   , 0.16004575, 0.16449285, 0.72296355,\n",
       "       0.15507103, 0.71760776, 0.15215765, 0.16030279, 0.67707428,\n",
       "       0.83920094, 0.18193491, 0.18327226, 0.18033213, 0.15589772,\n",
       "       0.16079922, 0.1632321 , 0.15326971, 0.69732371, 0.81800447,\n",
       "       0.67719808, 0.74096   , 0.75234028, 0.14444773, 0.68807292,\n",
       "       0.12183943, 0.68904058, 0.15909752, 0.67185221, 0.15504485,\n",
       "       0.15215765, 0.15271061, 0.15379869, 0.78548014])"
      ]
     },
     "execution_count": 219,
     "metadata": {},
     "output_type": "execute_result"
    }
   ],
   "source": [
    "yhat_log[:,1]"
   ]
  },
  {
   "cell_type": "markdown",
   "metadata": {},
   "source": [
    "Now we can use the roc_curve() function to plot these. A True Positive will be anything over 50%, because this would be classified as a 1. A False Positive will be anything where the prediction was over 50% but actually the output should have been a 0. You can print out each element to see what it looks like."
   ]
  },
  {
   "cell_type": "code",
   "execution_count": 220,
   "metadata": {},
   "outputs": [],
   "source": [
    "fpr, tpr, thresholds = roc_curve(y_test, yhat_log[:,1])"
   ]
  },
  {
   "cell_type": "code",
   "execution_count": 221,
   "metadata": {},
   "outputs": [
    {
     "data": {
      "text/plain": [
       "array([0.        , 0.        , 0.        , 0.00877193, 0.00877193,\n",
       "       0.01754386, 0.01754386, 0.02631579, 0.02631579, 0.03508772,\n",
       "       0.03508772, 0.04385965, 0.04385965, 0.05263158, 0.05263158,\n",
       "       0.06140351, 0.06140351, 0.07017544, 0.07017544, 0.07894737,\n",
       "       0.07894737, 0.0877193 , 0.0877193 , 0.11403509, 0.11403509,\n",
       "       0.13157895, 0.13157895, 0.14035088, 0.14035088, 0.14912281,\n",
       "       0.14912281, 0.15789474, 0.15789474, 0.15789474, 0.23684211,\n",
       "       0.23684211, 0.26315789, 0.26315789, 0.28947368, 0.28947368,\n",
       "       0.29824561, 0.29824561, 0.31578947, 0.31578947, 0.40350877,\n",
       "       0.40350877, 0.42105263, 0.42105263, 0.43859649, 0.43859649,\n",
       "       0.49122807, 0.50877193, 0.5877193 , 0.5877193 , 0.61403509,\n",
       "       0.61403509, 0.63157895, 0.63157895, 0.64035088, 0.64035088,\n",
       "       0.66666667, 0.66666667, 0.69298246, 0.71052632, 0.71929825,\n",
       "       0.71929825, 0.76315789, 0.76315789, 0.79824561, 0.8245614 ,\n",
       "       0.84210526, 0.85087719, 0.85087719, 0.85964912, 0.87719298,\n",
       "       0.87719298, 1.        ])"
      ]
     },
     "execution_count": 221,
     "metadata": {},
     "output_type": "execute_result"
    }
   ],
   "source": [
    "fpr"
   ]
  },
  {
   "attachments": {},
   "cell_type": "markdown",
   "metadata": {},
   "source": [
    "FPR metric is a proportion"
   ]
  },
  {
   "cell_type": "code",
   "execution_count": 222,
   "metadata": {},
   "outputs": [
    {
     "data": {
      "text/plain": [
       "array([0.        , 0.01538462, 0.15384615, 0.15384615, 0.2       ,\n",
       "       0.2       , 0.27692308, 0.27692308, 0.29230769, 0.29230769,\n",
       "       0.36923077, 0.36923077, 0.38461538, 0.38461538, 0.4       ,\n",
       "       0.4       , 0.43076923, 0.43076923, 0.44615385, 0.44615385,\n",
       "       0.46153846, 0.46153846, 0.49230769, 0.49230769, 0.50769231,\n",
       "       0.50769231, 0.52307692, 0.52307692, 0.53846154, 0.53846154,\n",
       "       0.56923077, 0.56923077, 0.58461538, 0.61538462, 0.61538462,\n",
       "       0.64615385, 0.64615385, 0.69230769, 0.69230769, 0.70769231,\n",
       "       0.70769231, 0.72307692, 0.72307692, 0.73846154, 0.73846154,\n",
       "       0.75384615, 0.75384615, 0.8       , 0.8       , 0.81538462,\n",
       "       0.81538462, 0.81538462, 0.81538462, 0.83076923, 0.83076923,\n",
       "       0.84615385, 0.84615385, 0.86153846, 0.86153846, 0.87692308,\n",
       "       0.87692308, 0.90769231, 0.90769231, 0.90769231, 0.90769231,\n",
       "       0.92307692, 0.92307692, 0.93846154, 0.95384615, 0.95384615,\n",
       "       0.95384615, 0.95384615, 0.96923077, 0.98461538, 0.98461538,\n",
       "       1.        , 1.        ])"
      ]
     },
     "execution_count": 222,
     "metadata": {},
     "output_type": "execute_result"
    }
   ],
   "source": [
    "tpr"
   ]
  },
  {
   "cell_type": "code",
   "execution_count": 223,
   "metadata": {},
   "outputs": [
    {
     "data": {
      "text/plain": [
       "array([1.98892914, 0.98892914, 0.8259715 , 0.81800447, 0.78548014,\n",
       "       0.78289983, 0.75234028, 0.74106058, 0.74096   , 0.73969216,\n",
       "       0.72436284, 0.72296355, 0.71784864, 0.71760776, 0.71715856,\n",
       "       0.71584262, 0.70938042, 0.7092574 , 0.70785397, 0.70729173,\n",
       "       0.70541986, 0.70362981, 0.69732371, 0.69114956, 0.69109832,\n",
       "       0.68989539, 0.68904058, 0.68807292, 0.68698648, 0.68351408,\n",
       "       0.67828868, 0.67777218, 0.67719808, 0.67707428, 0.24922439,\n",
       "       0.24252759, 0.2355281 , 0.22626485, 0.21861707, 0.21828008,\n",
       "       0.21705543, 0.20864747, 0.18909613, 0.18877667, 0.18327226,\n",
       "       0.18193491, 0.18140143, 0.17976603, 0.17360574, 0.17244526,\n",
       "       0.16560788, 0.16479851, 0.15967096, 0.15909752, 0.1580836 ,\n",
       "       0.15752659, 0.15693409, 0.15609781, 0.15604358, 0.15599717,\n",
       "       0.15507103, 0.15459144, 0.15391999, 0.15379869, 0.15347152,\n",
       "       0.15326971, 0.15322398, 0.15303029, 0.15299023, 0.15267006,\n",
       "       0.15215765, 0.15215095, 0.15175373, 0.15152125, 0.15020289,\n",
       "       0.1498806 , 0.12183943])"
      ]
     },
     "execution_count": 223,
     "metadata": {},
     "output_type": "execute_result"
    }
   ],
   "source": [
    "thresholds"
   ]
  },
  {
   "cell_type": "code",
   "execution_count": 224,
   "metadata": {},
   "outputs": [
    {
     "data": {
      "text/plain": [
       "Text(0, 0.5, 'True Positive Rate')"
      ]
     },
     "execution_count": 224,
     "metadata": {},
     "output_type": "execute_result"
    },
    {
     "data": {
      "image/png": "[encoded data removed]",
      "text/plain": [
       "<Figure size 432x288 with 1 Axes>"
      ]
     },
     "metadata": {
      "needs_background": "light"
     },
     "output_type": "display_data"
    }
   ],
   "source": [
    "import matplotlib.pyplot as plt\n",
    "plt.plot(fpr,tpr)\n",
    "plt.xlabel('False Positive Rate')\n",
    "plt.ylabel('True Positive Rate')"
   ]
  },
  {
   "cell_type": "markdown",
   "metadata": {},
   "source": [
    "Ideally we want this curve to be towards the top left; but in a non-ideal world, we want to find the optimal threshold. One way we can do this is by calculating the geometric mean (G-mean) which will find the balance between Sensitivity and Specificity. As a refresher:\n",
    "\n",
    "Sensitivity = True Positive Rate \\\n",
    "Specificity = 1 - False Positive Rate\n",
    "\n",
    "In other words:\n",
    "\n",
    "Sensitivity = TP / (TP + FN) \\\n",
    "Specificity = TN / (FP + TN)\n",
    "\n",
    "To calculate the G-mean, we simply take the square root of the Sensitivity multiplied by the Specificity."
   ]
  },
  {
   "cell_type": "code",
   "execution_count": 225,
   "metadata": {},
   "outputs": [
    {
     "data": {
      "text/plain": [
       "array([0.        , 0.12403473, 0.39223227, 0.39050816, 0.44524781,\n",
       "       0.44327331, 0.52159829, 0.51926451, 0.53349357, 0.531085  ,\n",
       "       0.59688802, 0.59416869, 0.60642088, 0.60363273, 0.61558701,\n",
       "       0.61273044, 0.63586043, 0.63288215, 0.64408447, 0.64103914,\n",
       "       0.65199786, 0.64888568, 0.67016625, 0.66042966, 0.67066949,\n",
       "       0.663996  , 0.67398146, 0.67056888, 0.68035872, 0.6768786 ,\n",
       "       0.69594934, 0.69235268, 0.70164642, 0.71987403, 0.68529966,\n",
       "       0.70222319, 0.69000968, 0.71422788, 0.70135785, 0.7091079 ,\n",
       "       0.70471709, 0.71233588, 0.70337532, 0.71081865, 0.66369107,\n",
       "       0.67056888, 0.66063397, 0.68055705, 0.67016625, 0.67657947,\n",
       "       0.64408447, 0.63288215, 0.5797994 , 0.58524364, 0.56625769,\n",
       "       0.57147677, 0.55833761, 0.56339055, 0.55664311, 0.56159115,\n",
       "       0.54065487, 0.55005827, 0.5278991 , 0.51259442, 0.50476809,\n",
       "       0.50902781, 0.4675719 , 0.47145223, 0.43868285, 0.40907387,\n",
       "       0.38808155, 0.37714747, 0.38017682, 0.37174135, 0.34773219,\n",
       "       0.35043832, 0.        ])"
      ]
     },
     "execution_count": 225,
     "metadata": {},
     "output_type": "execute_result"
    }
   ],
   "source": [
    "gmeans = np.sqrt(tpr*(1-fpr))\n",
    "gmeans"
   ]
  },
  {
   "cell_type": "code",
   "execution_count": 226,
   "metadata": {},
   "outputs": [
    {
     "name": "stdout",
     "output_type": "stream",
     "text": [
      "0.6770742760093862\n",
      "0.7198740330653561\n"
     ]
    }
   ],
   "source": [
    "#find the index with the highest gmean\n",
    "\n",
    "print(thresholds[np.argmax(gmeans)])\n",
    "print(gmeans[np.argmax(gmeans)])\n"
   ]
  },
  {
   "cell_type": "markdown",
   "metadata": {},
   "source": [
    "Now for this model, we can conclude that the best threshold is 61%, with a geometric mean of 81%. So how do we actually implement this?\n",
    "\n",
    "Unfortunately, sklearn models don't have a threshold parameter as a hyperparameter. But, we can simply use the predict_proba() function, then assign a class based on the optimal threshold, and go from there. \n",
    "\n",
    "Now let's repeat the process for NB."
   ]
  },
  {
   "cell_type": "code",
   "execution_count": 227,
   "metadata": {},
   "outputs": [
    {
     "name": "stdout",
     "output_type": "stream",
     "text": [
      "0.09525991655466014\n",
      "0.7254762501100117\n"
     ]
    }
   ],
   "source": [
    "fpr_nb, tpr_nb, thresholds_nb = roc_curve(y_test, yhat_nb[:,1])\n",
    "gmeans_nb = np.sqrt(tpr_nb*(1-fpr_nb))\n",
    "print(thresholds_nb[np.argmax(gmeans_nb)])\n",
    "print(gmeans_nb[np.argmax(gmeans_nb)])"
   ]
  },
  {
   "cell_type": "code",
   "execution_count": 228,
   "metadata": {},
   "outputs": [
    {
     "data": {
      "text/plain": [
       "array([0.        , 0.12403473, 0.1754116 , 0.17464056, 0.34928112,\n",
       "       0.34773219, 0.40775214, 0.40592774, 0.48956727, 0.48735702,\n",
       "       0.54488172, 0.54239933, 0.56887321, 0.56363003, 0.57629746,\n",
       "       0.57359816, 0.58593501, 0.57758397, 0.58949417, 0.58084586,\n",
       "       0.61470948, 0.61162821, 0.62245433, 0.61930264, 0.64030189,\n",
       "       0.65054737, 0.64387491, 0.66369107, 0.66022529, 0.67936622,\n",
       "       0.67217696, 0.70853673, 0.68922691, 0.69778907, 0.68981407,\n",
       "       0.69817576, 0.68174579, 0.68981407, 0.68559499, 0.6935212 ,\n",
       "       0.68922691, 0.71987403, 0.71536067, 0.72277393, 0.71818485,\n",
       "       0.72547625, 0.71138799, 0.71846665, 0.67906819, 0.6856934 ,\n",
       "       0.67016625, 0.67657947, 0.58593501, 0.59143687, 0.56625769,\n",
       "       0.55323853, 0.53990552, 0.54981287, 0.54289671, 0.56195149,\n",
       "       0.53235403, 0.51692019, 0.50101112, 0.47145223, 0.47530088,\n",
       "       0.46641597, 0.41917598, 0.35426836, 0.35993702, 0.22764416,\n",
       "       0.20942695, 0.13245324, 0.        ])"
      ]
     },
     "execution_count": 228,
     "metadata": {},
     "output_type": "execute_result"
    }
   ],
   "source": [
    "gmeans_nb"
   ]
  },
  {
   "cell_type": "code",
   "execution_count": 229,
   "metadata": {},
   "outputs": [
    {
     "data": {
      "text/plain": [
       "array([0.        , 0.        , 0.        , 0.00877193, 0.00877193,\n",
       "       0.01754386, 0.01754386, 0.02631579, 0.02631579, 0.03508772,\n",
       "       0.03508772, 0.04385965, 0.04385965, 0.06140351, 0.06140351,\n",
       "       0.07017544, 0.07017544, 0.09649123, 0.09649123, 0.12280702,\n",
       "       0.12280702, 0.13157895, 0.13157895, 0.14035088, 0.14035088,\n",
       "       0.14035088, 0.15789474, 0.15789474, 0.16666667, 0.16666667,\n",
       "       0.18421053, 0.18421053, 0.22807018, 0.22807018, 0.24561404,\n",
       "       0.24561404, 0.28070175, 0.28070175, 0.28947368, 0.28947368,\n",
       "       0.29824561, 0.29824561, 0.30701754, 0.30701754, 0.31578947,\n",
       "       0.31578947, 0.34210526, 0.34210526, 0.4122807 , 0.4122807 ,\n",
       "       0.43859649, 0.43859649, 0.57894737, 0.57894737, 0.61403509,\n",
       "       0.63157895, 0.64912281, 0.64912281, 0.65789474, 0.65789474,\n",
       "       0.69298246, 0.71052632, 0.72807018, 0.76315789, 0.76315789,\n",
       "       0.77192982, 0.81578947, 0.86842105, 0.86842105, 0.94736842,\n",
       "       0.95614035, 0.98245614, 1.        ])"
      ]
     },
     "execution_count": 229,
     "metadata": {},
     "output_type": "execute_result"
    }
   ],
   "source": [
    "fpr_nb"
   ]
  },
  {
   "cell_type": "code",
   "execution_count": 230,
   "metadata": {},
   "outputs": [
    {
     "data": {
      "text/plain": [
       "Text(0, 0.5, 'True Positive Rate')"
      ]
     },
     "execution_count": 230,
     "metadata": {},
     "output_type": "execute_result"
    },
    {
     "data": {
      "image/png": "[encoded data removed]",
      "text/plain": [
       "<Figure size 432x288 with 1 Axes>"
      ]
     },
     "metadata": {
      "needs_background": "light"
     },
     "output_type": "display_data"
    }
   ],
   "source": [
    "import matplotlib.pyplot as plt\n",
    "plt.plot(fpr_nb,tpr_nb)\n",
    "plt.xlabel('False Positive Rate')\n",
    "plt.ylabel('True Positive Rate')"
   ]
  },
  {
   "cell_type": "code",
   "execution_count": 231,
   "metadata": {},
   "outputs": [
    {
     "data": {
      "text/plain": [
       "<matplotlib.legend.Legend at 0x7ff5a7c41a50>"
      ]
     },
     "execution_count": 231,
     "metadata": {},
     "output_type": "execute_result"
    },
    {
     "data": {
      "image/png": "[encoded data removed]",
      "text/plain": [
       "<Figure size 432x288 with 1 Axes>"
      ]
     },
     "metadata": {
      "needs_background": "light"
     },
     "output_type": "display_data"
    }
   ],
   "source": [
    "#now let's plot both models on the same plot so we can see how they compare\n",
    "import matplotlib.pyplot as plt\n",
    "plt.plot(fpr,tpr, label='log_reg')\n",
    "plt.plot(fpr_nb,tpr_nb, label='nb')\n",
    "plt.xlabel('False Positive Rate')\n",
    "plt.ylabel('True Positive Rate')\n",
    "plt.legend()"
   ]
  },
  {
   "cell_type": "markdown",
   "metadata": {},
   "source": [
    "The Logistic Regression is VERY slightly better than Naive Bayes for this problem. And once again, we have not done any tuning to these models, but likely we would want to lean towards tho logistic regression.\n",
    "\n",
    "Now, we cannot use the same method to evaluate KNN, simply because it's not a probability-based model - it uses distance. While we want to find the optimal probability threshold for NB or Logistic Regression, for KNN we would be looking for the optimal number of neighbours. To compare it to these two models though, we could use the confusion matrix, recall, precision, and F1 score. And the roc_curve which is based on predicted values, rather than probabilities."
   ]
  },
  {
   "cell_type": "code",
   "execution_count": 232,
   "metadata": {},
   "outputs": [
    {
     "data": {
      "text/plain": [
       "<matplotlib.legend.Legend at 0x7ff5a7d4cc90>"
      ]
     },
     "execution_count": 232,
     "metadata": {},
     "output_type": "execute_result"
    },
    {
     "data": {
      "image/png": "[encoded data removed]",
      "text/plain": [
       "<Figure size 432x288 with 1 Axes>"
      ]
     },
     "metadata": {
      "needs_background": "light"
     },
     "output_type": "display_data"
    }
   ],
   "source": [
    "fpr_knn, tpr_knn, thresholds_knn = roc_curve(y_test, yhat_knn)\n",
    "plt.plot(fpr_knn,tpr_knn, label='knn')\n",
    "plt.legend()"
   ]
  },
  {
   "cell_type": "code",
   "execution_count": 233,
   "metadata": {},
   "outputs": [
    {
     "name": "stdout",
     "output_type": "stream",
     "text": [
      "knn F1:  0.5538461538461539\n",
      "knn precision:  0.5538461538461539\n",
      "knn precision:  0.5538461538461539\n",
      "knn precision:  0.6759776536312849\n"
     ]
    }
   ],
   "source": [
    "print(\"knn F1: \", f1_score(y_test,yhat_knn))\n",
    "print(\"knn precision: \", precision_score(y_test,yhat_knn))\n",
    "print(\"knn precision: \", recall_score(y_test,yhat_knn))\n",
    "print(\"knn precision: \", accuracy_score(y_test,yhat_knn))"
   ]
  },
  {
   "cell_type": "markdown",
   "metadata": {},
   "source": [
    "Overall this model performed the worst, so... we should just scrap it. AND THAT'S IT! I hope this was helpful."
   ]
  }
 ],
 "metadata": {
  "kernelspec": {
   "display_name": "Python 3.7.13 ('base')",
   "language": "python",
   "name": "python3"
  },
  "language_info": {
   "codemirror_mode": {
    "name": "ipython",
    "version": 3
   },
   "file_extension": ".py",
   "mimetype": "text/x-python",
   "name": "python",
   "nbconvert_exporter": "python",
   "pygments_lexer": "ipython3",
   "version": "3.7.13"
  },
  "orig_nbformat": 4,
  "vscode": {
   "interpreter": {
    "hash": "ec34e64f2b95dc7183eda31f4b1ab04e3712d1753bd3e78e25e6efc4f82ffea6"
   }
  }
 },
 "nbformat": 4,
 "nbformat_minor": 2
}
